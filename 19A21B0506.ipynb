{
  "nbformat": 4,
  "nbformat_minor": 0,
  "metadata": {
    "colab": {
      "name": "19A21B0506",
      "provenance": [],
      "authorship_tag": "ABX9TyPiP8I+ZVVRhoigCdgum8lX",
      "include_colab_link": true
    },
    "kernelspec": {
      "name": "python3",
      "display_name": "Python 3"
    },
    "language_info": {
      "name": "python"
    }
  },
  "cells": [
    {
      "cell_type": "markdown",
      "metadata": {
        "id": "view-in-github",
        "colab_type": "text"
      },
      "source": [
        "<a href=\"https://colab.research.google.com/github/Bathulahepsi/python-lab/blob/main/19A21B0506.ipynb\" target=\"_parent\"><img src=\"https://colab.research.google.com/assets/colab-badge.svg\" alt=\"Open In Colab\"/></a>"
      ]
    },
    {
      "cell_type": "markdown",
      "metadata": {
        "id": "QIjyLNsLOnu7"
      },
      "source": [
        " B.Hepsi.       \n",
        " 19A21B0506.  \n",
        " CSE-SHIFT"
      ]
    },
    {
      "cell_type": "markdown",
      "metadata": {
        "id": "lwmAo_ZUQeQY"
      },
      "source": [
        "EXCERSICE-1\n",
        "A.WRITE PROGRAM IN INTERACTIVE,INTERPRETER,PYHON SCRIPT MODE.\n",
        "B.Write a program to purposefully raise Indentation Error and Correct it."
      ]
    },
    {
      "cell_type": "markdown",
      "metadata": {
        "id": "8tr9UIYQQ467"
      },
      "source": [
        " a=69      \n",
        "b=99  \n",
        "a,b=b,a  \n",
        "print(a,b)"
      ]
    },
    {
      "cell_type": "code",
      "metadata": {
        "colab": {
          "base_uri": "https://localhost:8080/"
        },
        "id": "yQnwmOWFT4BS",
        "outputId": "a0ed79a8-8dd1-4014-d127-d5365ffa5c5e"
      },
      "source": [
        "2\n",
        "5"
      ],
      "execution_count": null,
      "outputs": [
        {
          "output_type": "execute_result",
          "data": {
            "text/plain": [
              "5"
            ]
          },
          "metadata": {
            "tags": []
          },
          "execution_count": 4
        }
      ]
    },
    {
      "cell_type": "markdown",
      "metadata": {
        "id": "h6maA5JoROe0"
      },
      "source": [
        " a=input(\"enter a vlaue:\")   \n",
        "b=input(\"enter b value:\")    \n",
        "c=a+b;   \n",
        "print(\"sum is \",c,sep=\"\\t\")    \n",
        "c=int(a)+int(b)       \n",
        "print(\"sum of {} and {} is :     {}\".format(a,b,c))     \n",
        "print(\"sum of %s and %s is:%d\"%(a,b,c))     \n",
        "x=20    \n",
        "y=143      \n",
        "z=x+y;       \n",
        "print(\"sum is\",z,sep='\\t' )"
      ]
    },
    {
      "cell_type": "code",
      "metadata": {
        "colab": {
          "base_uri": "https://localhost:8080/"
        },
        "id": "Hyu25tgaTej3",
        "outputId": "a9c59097-9896-424c-b1dc-c75a31b8b81b"
      },
      "source": [
        "20\n",
        "10"
      ],
      "execution_count": null,
      "outputs": [
        {
          "output_type": "execute_result",
          "data": {
            "text/plain": [
              "10"
            ]
          },
          "metadata": {
            "tags": []
          },
          "execution_count": 3
        }
      ]
    },
    {
      "cell_type": "markdown",
      "metadata": {
        "id": "zSBDfR0URsgf"
      },
      "source": [
        " print(\"welcome to python\")    \n",
        "a=40     \n",
        "b=90     \n",
        "print(\"the value of a:\",a)      \n",
        "print(\"the value of b :\",b)    \n",
        "if(a>b):       \n",
        "       print(\"a is big\");     \n",
        "       print(\"ifbblock ends\")     \n",
        "else:    \n",
        "            print(\"b is big\")    \n",
        "            print(\"elseblock ends\")"
      ]
    },
    {
      "cell_type": "code",
      "metadata": {
        "colab": {
          "base_uri": "https://localhost:8080/"
        },
        "id": "9gbxC_FjT-kY",
        "outputId": "16faed30-4671-4001-837e-694db143a554"
      },
      "source": [
        "10\n",
        "10"
      ],
      "execution_count": null,
      "outputs": [
        {
          "output_type": "execute_result",
          "data": {
            "text/plain": [
              "10"
            ]
          },
          "metadata": {
            "tags": []
          },
          "execution_count": 6
        }
      ]
    },
    {
      "cell_type": "markdown",
      "metadata": {
        "id": "2M8OCnKLUO5t"
      },
      "source": [
        "EXERCISE-2    \n",
        "A.COMPUTE DISTANCE BETWEEN TWO POINTS.  \n",
        "B.TAKE TWO NUMBERS ON COMMAND LINE ARGUMENTS AND PRINT THE SUM."
      ]
    },
    {
      "cell_type": "markdown",
      "metadata": {
        "id": "dF1IY5CVUrOd"
      },
      "source": [
        "x1=10    \n",
        "x2=70     \n",
        "y1=14     \n",
        "y2=30     \n",
        "z=(pow((x2-x1),2)+pow((y2-y1),2))**0.5 \n",
        "print(z)"
      ]
    },
    {
      "cell_type": "code",
      "metadata": {
        "colab": {
          "base_uri": "https://localhost:8080/"
        },
        "id": "nExEUA-KU0X1",
        "outputId": "e505ee9a-405f-48b6-e37e-42849d7a65fe"
      },
      "source": [
        "20\n",
        "30"
      ],
      "execution_count": null,
      "outputs": [
        {
          "output_type": "execute_result",
          "data": {
            "text/plain": [
              "30"
            ]
          },
          "metadata": {
            "tags": []
          },
          "execution_count": 7
        }
      ]
    },
    {
      "cell_type": "markdown",
      "metadata": {
        "id": "aAWQXV_PU5Rm"
      },
      "source": [
        " 50  \n",
        "import math     \n",
        "x1=int(input(\"enter  x1 value:\"))  \n",
        "x2=int(input(\"enter  x2 value:\"))   \n",
        "y1=int(input(\"enter  y1 value:\"))    \n",
        "y2=int(input(\"enter  y2 value:\"))  \n",
        "z=math.sqrt((x2-x1)**2+(y2-y1)**2)  \n",
        "print(\"the distance between two points     is :\",z)      \n",
        "print(\"the distance between two points is :\",z,sep='\\t')  \n",
        "print(\"the distance between ({}, {})and ({},{}) is  :{}\".format(x1,y1,x2,y2,z)) \n",
        " \n",
        "print(\"the distance between (%d, %d)and (%d,%d) is  :%f\"%(x1,y1,x2,y2,z))"
      ]
    },
    {
      "cell_type": "code",
      "metadata": {
        "colab": {
          "base_uri": "https://localhost:8080/"
        },
        "id": "nU6yWieUVlAM",
        "outputId": "78df3479-66d7-49c3-c553-0b913f315138"
      },
      "source": [
        "30\n",
        "40"
      ],
      "execution_count": null,
      "outputs": [
        {
          "output_type": "execute_result",
          "data": {
            "text/plain": [
              "40"
            ]
          },
          "metadata": {
            "tags": []
          },
          "execution_count": 8
        }
      ]
    },
    {
      "cell_type": "markdown",
      "metadata": {
        "id": "bU6GeLzzVycs"
      },
      "source": [
        "EXCERSCISE-3   \n",
        "A) Write a Program for checking whether the given number is an even number or not.      \n",
        "b) Using a for loop, write a program that prints out the decimal equivalents of 1/2, 1/3, 1/4, . . .1/10      \n",
        "c) Write a program using a for loop that loops over a sequence. What is sequence?      \n",
        "d) Write a program using a while loop that asks the user for a number, and prints a countdownfrom that number to zero"
      ]
    },
    {
      "cell_type": "markdown",
      "metadata": {
        "id": "K9FD8DcwV8TA"
      },
      "source": [
        " n=int(input(\"enter a number:\"))   \n",
        "if (n%2)==0:   \n",
        "        print(\"given number is even\")  \n",
        "else:   \n",
        "      print(\"given number is odd\")"
      ]
    },
    {
      "cell_type": "code",
      "metadata": {
        "colab": {
          "base_uri": "https://localhost:8080/"
        },
        "id": "vgtII7seWO5V",
        "outputId": "01abbdec-c312-49fc-b1da-82361d84cc7e"
      },
      "source": [
        "10\n",
        "5"
      ],
      "execution_count": null,
      "outputs": [
        {
          "output_type": "execute_result",
          "data": {
            "text/plain": [
              "5"
            ]
          },
          "metadata": {
            "tags": []
          },
          "execution_count": 9
        }
      ]
    },
    {
      "cell_type": "markdown",
      "metadata": {
        "id": "q9IGOuWRWWyh"
      },
      "source": [
        "n=int(input(\"enter a number:\"))   \n",
        "for i in range(2,n):  \n",
        "    de=1/i;   \n",
        "    print(\"1/\"+str(i)+\"=\",de)"
      ]
    },
    {
      "cell_type": "code",
      "metadata": {
        "colab": {
          "base_uri": "https://localhost:8080/"
        },
        "id": "GN4W15OsWikl",
        "outputId": "7246cc2d-7818-4bda-b5b6-ba3f0fdeb3b0"
      },
      "source": [
        "6\n",
        "6"
      ],
      "execution_count": null,
      "outputs": [
        {
          "output_type": "execute_result",
          "data": {
            "text/plain": [
              "6"
            ]
          },
          "metadata": {
            "tags": []
          },
          "execution_count": 10
        }
      ]
    },
    {
      "cell_type": "markdown",
      "metadata": {
        "id": "Qpxl9WtaWqN3"
      },
      "source": [
        "arr=[4,\"abc\",-45,'C',10.5,True,5,10.6,\"XYZ\"]  \n",
        "Print(\"Given Array:\",arr)    \n",
        "for X in arr:   \n",
        "Print(X)"
      ]
    },
    {
      "cell_type": "code",
      "metadata": {
        "colab": {
          "base_uri": "https://localhost:8080/"
        },
        "id": "jGAnnbmDWz-p",
        "outputId": "90a583cd-1b24-45b0-b540-2c8b41ff0486"
      },
      "source": [
        "5\n",
        "5"
      ],
      "execution_count": null,
      "outputs": [
        {
          "output_type": "execute_result",
          "data": {
            "text/plain": [
              "5"
            ]
          },
          "metadata": {
            "tags": []
          },
          "execution_count": 11
        }
      ]
    },
    {
      "cell_type": "markdown",
      "metadata": {
        "id": "BFju9WE9W3zV"
      },
      "source": [
        " #program using a for a loop that loops over a sequence    \n",
        "print(\"loop sequence\")    \n",
        "num=[45,25,2,28,3,25]    \n",
        "for i in num:    \n",
        "    print(i)     \n",
        " \n",
        "#string sequence     \n",
        "print(\"string sequence\")      \n",
        "days=[\"sun\",\"mon\",\"tue\",\"wed\",\"thur\",\"fri\",\"st\"]    \n",
        "for d in days:    \n",
        "    print(d)   \n",
        "    \n",
        "#bothh sequence    \n",
        "print(\"sequence\")   \n",
        "arr=[123,\"abc\",5.6,'h',-33,\"xy\",True]   \n",
        "for x in arr:   \n",
        "      print(x)"
      ]
    },
    {
      "cell_type": "code",
      "metadata": {
        "colab": {
          "base_uri": "https://localhost:8080/"
        },
        "id": "29ZOq6F2XXjh",
        "outputId": "39b4c804-4d2d-4b9a-9c4c-50d884ef0caa"
      },
      "source": [
        "20\n",
        "20"
      ],
      "execution_count": null,
      "outputs": [
        {
          "output_type": "execute_result",
          "data": {
            "text/plain": [
              "20"
            ]
          },
          "metadata": {
            "tags": []
          },
          "execution_count": 12
        }
      ]
    },
    {
      "cell_type": "markdown",
      "metadata": {
        "id": "jjfTZl3EXVeU"
      },
      "source": [
        " #countdown seq    \n",
        "n=int(input(\"enter the numbr:\"))   \n",
        "while n>0:    \n",
        "      print(n)   \n",
        "      n=n-1"
      ]
    },
    {
      "cell_type": "code",
      "metadata": {
        "colab": {
          "base_uri": "https://localhost:8080/"
        },
        "id": "ULjcX7e4XrvS",
        "outputId": "3abfd6bb-6578-49ba-e212-17531816c7b8"
      },
      "source": [
        "10\n",
        "10"
      ],
      "execution_count": null,
      "outputs": [
        {
          "output_type": "execute_result",
          "data": {
            "text/plain": [
              "10"
            ]
          },
          "metadata": {
            "tags": []
          },
          "execution_count": 13
        }
      ]
    },
    {
      "cell_type": "markdown",
      "metadata": {
        "id": "XjtRzOoYXqjH"
      },
      "source": [
        " EXCERCISE-4.     \n",
        "a) Find the sum of all the primes below two million. Each new term in the Fibonacci sequence is generated by adding the previous two terms. Bystarting with 1 and 2, the first 10 terms will be: 1, 2, 3, 5, 8, 13, 21, 34, 55, 89, ....      \n",
        "b) By considering the terms in the Fibonacci sequence whose values do not exceed four million,find the sum of the even-valued terms."
      ]
    },
    {
      "cell_type": "markdown",
      "metadata": {
        "id": "K-x23NXdX4K8"
      },
      "source": [
        " n=int(input(\"enter a num:\"))    \n",
        "a=1    \n",
        "b=0     \n",
        "c=a+b     \n",
        "st=\"\"    \n",
        "sum=0     \n",
        "con=0      \n",
        "while con<=n:        \n",
        "    st+=\"\"+str(c)     \n",
        "    sum+=c              \n",
        "    a=b    \n",
        "    b=c      \n",
        "    c=a+b      \n",
        "    con+=1  \n",
        "print(st)     \n",
        "print(\"sum of fibonacii series:\",sum)"
      ]
    },
    {
      "cell_type": "code",
      "metadata": {
        "colab": {
          "base_uri": "https://localhost:8080/"
        },
        "id": "njT_51BJYUNb",
        "outputId": "328ef61b-ae34-4ff2-bdb6-eb27b4267b79"
      },
      "source": [
        "50\n",
        "50"
      ],
      "execution_count": null,
      "outputs": [
        {
          "output_type": "execute_result",
          "data": {
            "text/plain": [
              "50"
            ]
          },
          "metadata": {
            "tags": []
          },
          "execution_count": 14
        }
      ]
    },
    {
      "cell_type": "markdown",
      "metadata": {
        "id": "vyD52djYYTKm"
      },
      "source": [
        " n=int(input(\"enter a number:\"))    \n",
        "c=0    \n",
        " \n",
        " \n",
        "st=\"\"     \n",
        "sum=0       \n",
        " \n",
        "for i in range(2,n):    \n",
        " state=True     \n",
        "for j in range(2,i):       \n",
        " if(i%j==0):    \n",
        "       state=False    \n",
        "        break;     \n",
        "if state==True:     \n",
        "            st+=\"\"+str(i)     \n",
        "            c+=1   \n",
        "            sum+=i   \n",
        " \n",
        "print(\"prime numbers\")   \n",
        "print(st)      \n",
        " \n",
        "print(\"total count of the prime numbers:\",c)     \n",
        "print(\"sum of all prime nums:\",sum)"
      ]
    },
    {
      "cell_type": "code",
      "metadata": {
        "colab": {
          "base_uri": "https://localhost:8080/"
        },
        "id": "whZQTvS5Y5zF",
        "outputId": "b0c74757-f43d-4e1c-b85e-e5d18f78d9f6"
      },
      "source": [
        "30\n",
        "30"
      ],
      "execution_count": null,
      "outputs": [
        {
          "output_type": "execute_result",
          "data": {
            "text/plain": [
              "30"
            ]
          },
          "metadata": {
            "tags": []
          },
          "execution_count": 15
        }
      ]
    },
    {
      "cell_type": "markdown",
      "metadata": {
        "id": "hRliAMykY4qh"
      },
      "source": [
        " EXCERCISE-5.    \n",
        "DS.  \n",
        "a) Write a program to count the numbers of characters in the string and store them in adictionary data structure.    \n",
        "b) Write a program to use split and join methods in the string and trace a birthday with adictionary data structure."
      ]
    },
    {
      "cell_type": "markdown",
      "metadata": {
        "id": "ChtRSKCcZGKF"
      },
      "source": [
        " name=input(\"enter a name:\")    \n",
        "dic={}   \n",
        "for ch in name:   \n",
        "    keys=dic.keys()   \n",
        " \n",
        "    if(ch in keys):   \n",
        "        dic[ch]=dic[ch]+1    \n",
        "    else:    \n",
        "        dic[ch]=1     \n",
        " \n",
        "print(\"dictinarry is:\",dic)"
      ]
    },
    {
      "cell_type": "code",
      "metadata": {
        "colab": {
          "base_uri": "https://localhost:8080/"
        },
        "id": "krF87ihhZiKV",
        "outputId": "a6622cf8-65cd-43bf-865b-f136246f0153"
      },
      "source": [
        "20\n",
        "20"
      ],
      "execution_count": null,
      "outputs": [
        {
          "output_type": "execute_result",
          "data": {
            "text/plain": [
              "20"
            ]
          },
          "metadata": {
            "tags": []
          },
          "execution_count": 16
        }
      ]
    },
    {
      "cell_type": "markdown",
      "metadata": {
        "id": "aiPi9DJgZgwz"
      },
      "source": [
        " dob={\"Mouni\":\"14-04-2002\",\"Keerthi\":\"01-11-2001\"}   \n",
        "name=input(\"enter which person dob u want:\")     \n",
        "l=name.split()    \n",
        "birth=\"\"    \n",
        "for i in l:    \n",
        "    if i in dob.keys():      \n",
        "        pers=i    \n",
        " \n",
        "print(\"\".join([pers,\"birthdayis:\",dob[pers]]))"
      ]
    },
    {
      "cell_type": "code",
      "metadata": {
        "colab": {
          "base_uri": "https://localhost:8080/"
        },
        "id": "FLec8IlHaPkH",
        "outputId": "5ecb948a-1d12-4598-9660-c4fa848d6951"
      },
      "source": [
        "14\n",
        "1"
      ],
      "execution_count": null,
      "outputs": [
        {
          "output_type": "execute_result",
          "data": {
            "text/plain": [
              "1"
            ]
          },
          "metadata": {
            "tags": []
          },
          "execution_count": 17
        }
      ]
    },
    {
      "cell_type": "markdown",
      "metadata": {
        "id": "4GXNVkolaNoQ"
      },
      "source": [
        " EXERCISE-6      \n",
        "DS - Continued.      \n",
        "a) Write a program combinelists that combines these lists into a dictionary.   \n",
        "b) Write a program to count frequency of characters in a given file. Can you use character frequency to tell whether the given file is a Python program file, C program file or a text file?"
      ]
    },
    {
      "cell_type": "markdown",
      "metadata": {
        "id": "y1uZPoiUafuW"
      },
      "source": [
        " sub=[\"daa\",\"os\",\"dbms\",\"p&s\",\"ppl\",\"se\"]   \n",
        "marks=[87,93,60,85,88,99]    \n",
        "print(sub) \n",
        "print(marks)   \n",
        "dic=dict(zip(sub,marks))   \n",
        "print(dic)"
      ]
    },
    {
      "cell_type": "code",
      "metadata": {
        "colab": {
          "base_uri": "https://localhost:8080/"
        },
        "id": "11RKgFDya0gm",
        "outputId": "57a3c0b8-4f81-4898-9198-87a7985254af"
      },
      "source": [
        "100\n",
        "100"
      ],
      "execution_count": null,
      "outputs": [
        {
          "output_type": "execute_result",
          "data": {
            "text/plain": [
              "100"
            ]
          },
          "metadata": {
            "tags": []
          },
          "execution_count": 18
        }
      ]
    },
    {
      "cell_type": "markdown",
      "metadata": {
        "id": "dR0vj6hlazmh"
      },
      "source": [
        " filetypes=['.py','.c','.txt'] \n",
        "fn=input(\"enter a fikle name:\")    \n",
        "f=open(fn,\"r\")   \n",
        "count=dict()    \n",
        "for  ft in filetypes:    \n",
        "     if(ft in  fn):       \n",
        "           if(ft==\".py\"):       \n",
        "             print(\"python file\")     \n",
        "           elif(ft==\".c\"):     \n",
        "             print(\"cfile\")  \n",
        "           elif(ft==\".txt\"):       \n",
        "             print(\"text file\")  \n",
        " \n",
        " \n",
        "for line in f:     \n",
        "     for ch in line:     \n",
        "          if ch in count:    \n",
        "               count[ch]=count[ch]+1   \n",
        " \n",
        "          else:      \n",
        "              count[ch]=1   \n",
        " \n",
        " \n",
        "print(count)     \n",
        "f.close()"
      ]
    },
    {
      "cell_type": "code",
      "metadata": {
        "colab": {
          "base_uri": "https://localhost:8080/"
        },
        "id": "UtX39DX6bbIx",
        "outputId": "aadf1fac-6421-43c4-e5e5-dfee7f21c7f8"
      },
      "source": [
        "90\n",
        "90"
      ],
      "execution_count": null,
      "outputs": [
        {
          "output_type": "execute_result",
          "data": {
            "text/plain": [
              "90"
            ]
          },
          "metadata": {
            "tags": []
          },
          "execution_count": 19
        }
      ]
    },
    {
      "cell_type": "markdown",
      "metadata": {
        "id": "Ck78GgR1baE1"
      },
      "source": [
        " EXCERCISE-7.  \n",
        "7 files.   \n",
        "a) Write a program to print each line of a file in reverse order.   \n",
        "b) Write a program to compute the number of characters, words and lines in a file."
      ]
    },
    {
      "cell_type": "markdown",
      "metadata": {
        "id": "4CZRrgS5bomz"
      },
      "source": [
        " obj=open(\"abc.txt\",\"r\")  \n",
        "if obj:  \n",
        "    st=obj.read()      \n",
        "    print(\"file content is:\")    \n",
        "obj.close()      \n",
        " \n",
        "print()    \n",
        "lines=st.split('\\n')    \n",
        " \n",
        "for ln in lines:    \n",
        "    i=len(ln)-1     \n",
        "    while(i>=0):   \n",
        "      print(ln[i],end='')     \n",
        "      i=i-1     \n",
        "    print()"
      ]
    },
    {
      "cell_type": "code",
      "metadata": {
        "colab": {
          "base_uri": "https://localhost:8080/"
        },
        "id": "Uw0hVomMcLOF",
        "outputId": "5c83e269-bd2b-4076-abcb-91f544945f1e"
      },
      "source": [
        "10\n",
        "20"
      ],
      "execution_count": null,
      "outputs": [
        {
          "output_type": "execute_result",
          "data": {
            "text/plain": [
              "20"
            ]
          },
          "metadata": {
            "tags": []
          },
          "execution_count": 20
        }
      ]
    },
    {
      "cell_type": "markdown",
      "metadata": {
        "id": "QTLa3HqlcOdt"
      },
      "source": [
        " obj=open(\"sam.txt\",\"r\")     \n",
        "if obj:   \n",
        "    st=obj.read()     \n",
        "    print(\"file content is:\")    \n",
        "obj.close()    \n",
        "print()   \n",
        "nc=nw=nl=0      \n",
        "for ch in st:    \n",
        "    if(ch):    \n",
        "        nc=nc+1     \n",
        "    if(ch==''):  \n",
        "        nw=nw+1    \n",
        "    if(ch=='\\n'):       \n",
        "        nl=nl+1   \n",
        " \n",
        "print(\"number of characters in a file:\",nc)    \n",
        "print(\"number of words in file is:\",nw)  \n",
        "print(\"number of lines ins file:\",nl)"
      ]
    },
    {
      "cell_type": "code",
      "metadata": {
        "colab": {
          "base_uri": "https://localhost:8080/"
        },
        "id": "tAoaWPTCc4kU",
        "outputId": "ce7a6fe1-5e98-42ff-b955-4b71a084f048"
      },
      "source": [
        "30\n",
        "30"
      ],
      "execution_count": null,
      "outputs": [
        {
          "output_type": "execute_result",
          "data": {
            "text/plain": [
              "30"
            ]
          },
          "metadata": {
            "tags": []
          },
          "execution_count": 21
        }
      ]
    },
    {
      "cell_type": "markdown",
      "metadata": {
        "id": "aXJdl7SNc3Er"
      },
      "source": [
        " EXCERCISE-8    \n",
        "8 Functions'.   \n",
        "a) Write a function ball collide that takes two balls as parameters and computes if they arecolliding. Your function should return a Boolean representing whether or not the balls arecolliding. Hint: Represent a ball on a plane as a tuple of (x, y, r), r being the radius If (distance between two balls centers) <= (sum of their radii) then (they are colliding).    \n",
        "b) Find mean, median, mode for the given set of numbers in a list."
      ]
    },
    {
      "cell_type": "markdown",
      "metadata": {
        "id": "UkBoHLnvdRZn"
      },
      "source": [
        " import math     \n",
        "def ballcollide(b1tup,b2tup):  \n",
        "    x1=b1tup[0]      \n",
        "    y1=b1tup[1]  \n",
        "    x2=b2tup[0]   \n",
        "    y2=b2tup[1]   \n",
        "    r1=b1tup[2]   \n",
        "    r2=b2tup[2]    \n",
        " \n",
        " \n",
        "    d=math.sqrt((x2-x1)**2+(y2-y1)**2)  \n",
        "    if(d<=r1+r2):  \n",
        "      return True     \n",
        "    else:   \n",
        "        return False     \n",
        " \n",
        " \n",
        "ball1=(1,2,3)  \n",
        "ball2=(3,2,1)     \n",
        "c=ballcollide(ball1,ball2)    \n",
        "if(c):     \n",
        "    print(\"balls are collided\")   \n",
        "else:     \n",
        "    print(\"ball are not collided\")"
      ]
    },
    {
      "cell_type": "code",
      "metadata": {
        "colab": {
          "base_uri": "https://localhost:8080/"
        },
        "id": "SIKpAmoTd3oq",
        "outputId": "5e3ec11d-864d-4538-dd29-4f98ebaf4d4f"
      },
      "source": [
        "1\n",
        "2"
      ],
      "execution_count": null,
      "outputs": [
        {
          "output_type": "execute_result",
          "data": {
            "text/plain": [
              "2"
            ]
          },
          "metadata": {
            "tags": []
          },
          "execution_count": 22
        }
      ]
    },
    {
      "cell_type": "markdown",
      "metadata": {
        "id": "0HH5yu79d1cX"
      },
      "source": [
        " def mean(num_list):    \n",
        "    return sum(num_list)/len(num_list)  \n",
        "def median(num_list):    \n",
        "    num_list.sort() \n",
        "    print(num_list)    \n",
        "    n=len(num_list) \n",
        "    print(\"total\",n)  \n",
        "    mid=n//2     \n",
        "    print(\"mid:\",mid)     \n",
        "    if(n%2==0):     \n",
        "        return num_list[mid]   \n",
        "    else:   \n",
        "        return (num_list[mid-1]+num_list[mid])/2    \n",
        "def mode(num_list):    \n",
        "    num_list.sort()    \n",
        "    temp=[]    \n",
        "    i=0   \n",
        "    while i<len(num_list): \n",
        "        temp.append(num_list.count(num_list[i])) \n",
        "        i+=1 \n",
        "    dic=dict(zip(num_list,temp)) \n",
        "    modes={k for k, v in dic.items()  if(v==max(temp))}  \n",
        "    return modes \n",
        "list=[1,1,2,2,3,4,5,3,3] \n",
        "print(\"mean of guive list:\",mean(list)) \n",
        "print(\"median of guive list:\",median(list)) \n",
        " \n",
        "print(\"mode of guive list:\",mode(list))"
      ]
    },
    {
      "cell_type": "code",
      "metadata": {
        "colab": {
          "base_uri": "https://localhost:8080/"
        },
        "id": "u6QTqJjvexPH",
        "outputId": "e971c906-a88c-48af-e697-db55052c235b"
      },
      "source": [
        "6\n",
        "6"
      ],
      "execution_count": null,
      "outputs": [
        {
          "output_type": "execute_result",
          "data": {
            "text/plain": [
              "6"
            ]
          },
          "metadata": {
            "tags": []
          },
          "execution_count": 23
        }
      ]
    },
    {
      "cell_type": "markdown",
      "metadata": {
        "id": "hFX5pfJZesz7"
      },
      "source": [
        " Exercise - 9 \n",
        "Functions - Continued    \n",
        "a) Write a function nearly equal to test whether two strings are nearly equal. Two strings a and bare nearly equal when a can be generated by a single mutation on b. \n",
        "b) Write a function dup to find all duplicates in the list. \n",
        "c) Write a function unique to find all the unique elements of a list."
      ]
    },
    {
      "cell_type": "markdown",
      "metadata": {
        "id": "v2pG8dObfMV2"
      },
      "source": [
        " def nearlyeq(str1,str2): \n",
        "    count=0 \n",
        "    i=j=0 \n",
        "    ss=0 \n",
        "    while(i<len(str1)and j<len(str2)): \n",
        "        if(str1[i]!=str2[j]): \n",
        "            count+=1 \n",
        "        if(len(str1)>len(str2)): \n",
        "            i+=1 \n",
        " \n",
        "        elif(len(str1)==len(str2)): \n",
        "            pass \n",
        "        else: \n",
        "            i-=1      \n",
        "        if(count>1):  \n",
        "             ss-=1 \n",
        "             \n",
        "        i+=1  \n",
        "        j+=1  \n",
        "        if(count<2): \n",
        "             ss+=1 \n",
        " \n",
        "    return ss \n",
        "s1=input(\"enter a string 1:\") \n",
        "s2=input(\"enter the string2:\") \n",
        "t=nearlyeq(s1,s2) \n",
        "if(t>1): \n",
        "    print(\"neraly equal0\") \n",
        "else: \n",
        "    print(\"not nearly equal\")"
      ]
    },
    {
      "cell_type": "code",
      "metadata": {
        "colab": {
          "base_uri": "https://localhost:8080/"
        },
        "id": "6qGjiWq2fofY",
        "outputId": "14e11dc9-5a10-4f52-845b-79091b85691e"
      },
      "source": [
        "3\n",
        "3"
      ],
      "execution_count": null,
      "outputs": [
        {
          "output_type": "execute_result",
          "data": {
            "text/plain": [
              "3"
            ]
          },
          "metadata": {
            "tags": []
          },
          "execution_count": 24
        }
      ]
    },
    {
      "cell_type": "markdown",
      "metadata": {
        "id": "FiNx4AqbfnEf"
      },
      "source": [
        "def dup(list): \n",
        "  list1=[] \n",
        "  for i in list: \n",
        "    count=list.count(i) \n",
        "    if(count>1 and (i not in list1)): \n",
        "        list1.append(i) \n",
        "        \n",
        "  print(\"the dups int he list are:\",list1)         \n",
        "list2=[1,2,1,2] \n",
        " \n",
        "dup(list2)"
      ]
    },
    {
      "cell_type": "code",
      "metadata": {
        "colab": {
          "base_uri": "https://localhost:8080/"
        },
        "id": "kTT2pHeVf6D-",
        "outputId": "54bbbc19-c01f-474d-c87f-8f24d7e1c3fe"
      },
      "source": [
        "2\n",
        "2"
      ],
      "execution_count": null,
      "outputs": [
        {
          "output_type": "execute_result",
          "data": {
            "text/plain": [
              "2"
            ]
          },
          "metadata": {
            "tags": []
          },
          "execution_count": 25
        }
      ]
    },
    {
      "cell_type": "markdown",
      "metadata": {
        "id": "mMwS5Itmf4tA"
      },
      "source": [
        "def unique(list1): \n",
        "  list2={} \n",
        " \n",
        "  for i in list1: \n",
        "    c=list1.count(i) \n",
        "    if c==1: \n",
        "      list2[i]=c \n",
        "  print(\"the unique elements in the list are:\",list2) \n",
        " \n",
        "list=[1,2,3,45,45,6,88,88,9] \n",
        "unique(list)"
      ]
    },
    {
      "cell_type": "code",
      "metadata": {
        "colab": {
          "base_uri": "https://localhost:8080/"
        },
        "id": "gid0nxJ6gG87",
        "outputId": "d0502469-8eac-45ba-d796-b954e0dfe635"
      },
      "source": [
        "45\n",
        "45"
      ],
      "execution_count": null,
      "outputs": [
        {
          "output_type": "execute_result",
          "data": {
            "text/plain": [
              "45"
            ]
          },
          "metadata": {
            "tags": []
          },
          "execution_count": 26
        }
      ]
    },
    {
      "cell_type": "markdown",
      "metadata": {
        "id": "tpGyIuSlgF7a"
      },
      "source": [
        "Exercise - 10 \n",
        "Functions - Problem Solving \n",
        "a) Write a function cumulative product to compute cumulative product of a list of numbers.  \n",
        "b) Write a function reverse to reverse a list. Without using the reverse function.  \n",
        "c) Write function to compute gcd, lcm of two numbers. Each function shouldn’t exceed one line"
      ]
    },
    {
      "cell_type": "markdown",
      "metadata": {
        "id": "LR1ZgnXAgXln"
      },
      "source": [
        " def cumulative_product(list1,n): \n",
        "    list2=[] \n",
        "    i=0 \n",
        "    list2.append(list1[i]) \n",
        "    for i in range(1,n): \n",
        "        v=list1[i]*list2[i-1] \n",
        "        list2.append(v) \n",
        "        \n",
        "    print(list2) \n",
        "list3=[] \n",
        "n=int(input(\"enter size :\")) \n",
        "print(\"enter the data:\") \n",
        "for i in range(0,n): \n",
        "    x=int(input()) \n",
        "    list3.append(x) \n",
        "cumulative_product(list3,n)"
      ]
    },
    {
      "cell_type": "code",
      "metadata": {
        "colab": {
          "base_uri": "https://localhost:8080/"
        },
        "id": "ERRDQHsigtk1",
        "outputId": "1973084c-9228-4833-f77a-9211539132e1"
      },
      "source": [
        "4\n",
        "4"
      ],
      "execution_count": null,
      "outputs": [
        {
          "output_type": "execute_result",
          "data": {
            "text/plain": [
              "4"
            ]
          },
          "metadata": {
            "tags": []
          },
          "execution_count": 27
        }
      ]
    },
    {
      "cell_type": "markdown",
      "metadata": {
        "id": "6H27_GLehL7U"
      },
      "source": [
        " def reverse_list(numlist): \n",
        "    temp=list1[::-1]  \n",
        "    numlist=temp  \n",
        "    return temp  \n",
        "list1=[1,2,3,4] \n",
        "print(\"giiven list is :\",list1) \n",
        "print(\"after reverse function:\",reverse_list(list1)) \n",
        "print(\"after list is:\",list1)"
      ]
    },
    {
      "cell_type": "code",
      "metadata": {
        "colab": {
          "base_uri": "https://localhost:8080/"
        },
        "id": "zGzmBQoOhnbZ",
        "outputId": "5c2c396e-2273-474a-da90-b9433cfa4a6b"
      },
      "source": [
        "8\n",
        "8"
      ],
      "execution_count": null,
      "outputs": [
        {
          "output_type": "execute_result",
          "data": {
            "text/plain": [
              "8"
            ]
          },
          "metadata": {
            "tags": []
          },
          "execution_count": 28
        }
      ]
    },
    {
      "cell_type": "markdown",
      "metadata": {
        "id": "av66JOlvhmqJ"
      },
      "source": [
        " gcd=lambda a,b: a if b==0 else gcd(a,a%b) \n",
        "lcm=lambda a,b: (a*b)/gcd(a,b) \n",
        " \n",
        "x=2 \n",
        "y=32 \n",
        "print(\"gcd=\",gcd(x,y)) \n",
        "print(\"lcm=\",lcm(x,y))"
      ]
    },
    {
      "cell_type": "code",
      "metadata": {
        "colab": {
          "base_uri": "https://localhost:8080/"
        },
        "id": "4djXGN0ch64Q",
        "outputId": "c4f967a3-caf0-4e46-da0d-30550ce13320"
      },
      "source": [
        "1\n",
        "1"
      ],
      "execution_count": null,
      "outputs": [
        {
          "output_type": "execute_result",
          "data": {
            "text/plain": [
              "1"
            ]
          },
          "metadata": {
            "tags": []
          },
          "execution_count": 29
        }
      ]
    },
    {
      "cell_type": "markdown",
      "metadata": {
        "id": "I2OBH5sEh5gz"
      },
      "source": [
        "Exercise-11-Multi-D-Lists. \n",
        " \n",
        "a) write a program that defines a matrix and prints  \n",
        "                    b) write a program to perform addition of two square matrices.  \n",
        "c) write a program to perform multiplication of two square matrices"
      ]
    },
    {
      "cell_type": "markdown",
      "metadata": {
        "id": "ZOXL8SsTiL0p"
      },
      "source": [
        " matA=[[]]  \n",
        "rows=int(input(\"Enter row size of matrix: \"))   \n",
        "cols=int(input(\"Enter column size of matrix: \"))   \n",
        "matA=[[int(input(\"Enter[%d,%d] value: \"%(i,j)))for j in range(cols)]for i in range(rows)]    \n",
        "print(\"matrix is: \")   \n",
        "for i in range(rows):    \n",
        "  for j in range(cols):    \n",
        "    print(matA[i][j],end='\\t')    \n",
        "  print()"
      ]
    },
    {
      "cell_type": "code",
      "metadata": {
        "colab": {
          "base_uri": "https://localhost:8080/"
        },
        "id": "6RrDjjqzilaD",
        "outputId": "6f4527f5-3508-4043-e8ab-d14b5e146b39"
      },
      "source": [
        "9\n",
        "9"
      ],
      "execution_count": null,
      "outputs": [
        {
          "output_type": "execute_result",
          "data": {
            "text/plain": [
              "9"
            ]
          },
          "metadata": {
            "tags": []
          },
          "execution_count": 30
        }
      ]
    },
    {
      "cell_type": "markdown",
      "metadata": {
        "id": "fsiCyQf3ijqc"
      },
      "source": [
        "def matRead(r,c): \n",
        "  return[[int(input(\"[%d,%d]value:\"%(i,j)))for j in range(c)]for i in range(r)] \n",
        "def matDisp(mat,r,c): \n",
        "  for i in range(r): \n",
        "    for j in range(c): \n",
        "      print(mat[i][j],end='\\t') \n",
        "    print() \n",
        "matA=[[]] \n",
        "matB=[[]]        \n",
        "matSum=[[]]  \n",
        "rows=int(input(\"Enter row size of the matrix: \")) \n",
        "cols=int(input(\"Enter column size of the matrix: \"))\n",
        "if rows==cols:\n",
        "  print(\"Enter Matrix-A elements: \")\n",
        "  matA=matRead(rows,cols)\n",
        " \n",
        "  print(\"Enter Matrix-B elements: \")\n",
        "  matB=matRead(rows,cols)\n",
        " \n",
        "  print(\"Matrix-A is: \")\n",
        "  matDisp(matA,rows,cols)\n",
        " \n",
        "  print(\"Matrix-B is: \")\n",
        "  matDisp(matB,rows,cols)\n",
        "  matSum=[[matA[i][j]+matB[i] [j]for j in range(cols)]for i in range(rows)] \n",
        "  print(\"sum of matrices is: \") \n",
        "  matDisp(matSum,rows,cols) \n",
        "else: \n",
        "  print(\"Matrices addition is not possible\")"
      ]
    },
    {
      "cell_type": "code",
      "metadata": {
        "colab": {
          "base_uri": "https://localhost:8080/"
        },
        "id": "YkqinTgNjIo9",
        "outputId": "e9abddb6-8d6c-4bcf-d635-a4f30a4953a4"
      },
      "source": [
        "5\n",
        "5"
      ],
      "execution_count": null,
      "outputs": [
        {
          "output_type": "execute_result",
          "data": {
            "text/plain": [
              "5"
            ]
          },
          "metadata": {
            "tags": []
          },
          "execution_count": 31
        }
      ]
    },
    {
      "cell_type": "markdown",
      "metadata": {
        "id": "cFlhxj0QjE36"
      },
      "source": [
        "def  matRead(r,c):   \n",
        "  return[[int(input(\"[%d,%d]value: \"%(i,j)))for j in range(c)]for i in range(r)] \n",
        "def matDisp(mat,r,c): \n",
        "  for i in range(r): \n",
        "    for j in range(c): \n",
        "      print(mat[i][j],end='\\t') \n",
        "matA=[[]] \n",
        "matB=[[]] \n",
        "matMul=[[]] \n",
        "rows=int(input(\"Enter row size of the Matrix: \")) \n",
        "cols=int(input(\"Enter column size of the Matrix: \")) \n",
        " \n",
        "if rows==cols:  \n",
        "  print(\"Enter Matrix-A: \") \n",
        "  matA=matRead(rows,cols) \n",
        "  print(\" Enter Matrix-B: \") \n",
        "  matB=matRead(rows,cols) \n",
        " \n",
        "  matMul=[[0 for j in range(cols)]for i in range(rows)] \n",
        "  for i in range(rows): \n",
        "    for j in range(cols): \n",
        "      for k in range(cols): \n",
        "        matMul[i][j]+=matA[i]  [k]*matB[k][j] \n",
        "  print(\"Matrix-A is: \") \n",
        "  matDisp(matA,rows,cols) \n",
        " \n",
        "  print(\"Matrix-B is: \") \n",
        "  matDisp(matB,rows,cols) \n",
        "  \n",
        "  print(\"Multiplication of matrices is: \") \n",
        "  matDisp(matMul,rows,cols) \n",
        "else: \n",
        "  print(\"Matrices Multiplication is not possible is\")"
      ]
    },
    {
      "cell_type": "code",
      "metadata": {
        "colab": {
          "base_uri": "https://localhost:8080/"
        },
        "id": "Hx3AKH4VjvbE",
        "outputId": "199790d3-3c68-41ae-e407-6c1e19be9253"
      },
      "source": [
        "70\n",
        "50"
      ],
      "execution_count": null,
      "outputs": [
        {
          "output_type": "execute_result",
          "data": {
            "text/plain": [
              "50"
            ]
          },
          "metadata": {
            "tags": []
          },
          "execution_count": 32
        }
      ]
    },
    {
      "cell_type": "markdown",
      "metadata": {
        "id": "9GtRrnw1julJ"
      },
      "source": [
        "Exercise-13-OOP\n",
        " \n",
        "a) class variables and instance variable and illustration of the self -variable"
      ]
    },
    {
      "cell_type": "markdown",
      "metadata": {
        "id": "8UJ4yvGCkITK"
      },
      "source": [
        " class Robot: \n",
        "    what=\"Machine\" \n",
        "    name=\"Chitti\" \n",
        "    version=1.0 \n",
        "    speed=\"1THz\" \n",
        "    memory=\"1ZB\" \n",
        " \n",
        "    def update(upd): \n",
        "        upd.version=2.0 \n",
        "        upd.speed=\"2THz\" \n",
        "        upd.memory=\"2ZB\" \n",
        " \n",
        "    def disp(self): \n",
        "        print(\"Myself is a\",robj.what) \n",
        "        print(\"MyName is a\",robj.name) \n",
        "        print(\"Version :\",robj.version) \n",
        "        print(\"Speed : \",robj.speed) \n",
        "        print(\"Memory: \",robj.memory) \n",
        " \n",
        "robj=Robot() \n",
        "robj.disp() \n",
        " \n",
        "print(\"---------------Update---------\") \n",
        "robj.update() \n",
        "robj.disp()"
      ]
    },
    {
      "cell_type": "code",
      "metadata": {
        "colab": {
          "base_uri": "https://localhost:8080/"
        },
        "id": "r_07xGq5kdht",
        "outputId": "7e9a5714-778b-4c2d-e980-761c03021d0f"
      },
      "source": [
        "10\n",
        "20"
      ],
      "execution_count": null,
      "outputs": [
        {
          "output_type": "execute_result",
          "data": {
            "text/plain": [
              "20"
            ]
          },
          "metadata": {
            "tags": []
          },
          "execution_count": 33
        }
      ]
    },
    {
      "cell_type": "markdown",
      "metadata": {
        "id": "k1Tm6GD6kcdM"
      },
      "source": [
        "class ATM: \n",
        "    def __init__(self): \n",
        "        self.balance=0 \n",
        "        print(\"New Account\") \n",
        "        \n",
        "    def enquire(self): \n",
        "        print(\"Balance: \",self.balance) \n",
        "        \n",
        "    def deposit(self): \n",
        "        amount=int(input(\"Enter the Deposit Amount:\")) \n",
        "        self.balance+=amount \n",
        "        self.enquire() \n",
        " \n",
        "    def withdraw(self): \n",
        "        amount=int(input(\"Enter the Withdraw Amount: \")) \n",
        "        if self.balance<amount: \n",
        "            print(\"Insufficient Balance.....!\") \n",
        "        else: \n",
        "            self.balance-=amount \n",
        "            self.enquire() \n",
        " \n",
        "aobj=ATM() \n",
        "while(True): \n",
        "    print(\"*****Menu****\") \n",
        "    print(\"1.Deposit\") \n",
        "    print(\"2.Withdarw\") \n",
        "    print(\"3.Balance\") \n",
        "    print(\"0.Exit\") \n",
        "    ch=int(input(\"Enter Your Choice: \")) \n",
        "    if ch==0: \n",
        "        break \n",
        "    elif ch==1: \n",
        "        aobj.deposit() \n",
        "    elif ch==2: \n",
        "        aobj.withdraw() \n",
        "    elif ch==3: \n",
        "        aobj.enquire() \n",
        "    else: \n",
        "        print(\"Invalid choice:\") \n",
        "        pass"
      ]
    },
    {
      "cell_type": "code",
      "metadata": {
        "id": "tLJh1319k_si",
        "colab": {
          "base_uri": "https://localhost:8080/"
        },
        "outputId": "be141c72-fe50-469c-da10-fbcb9de1c965"
      },
      "source": [
        "1000\n",
        "1000"
      ],
      "execution_count": null,
      "outputs": [
        {
          "output_type": "execute_result",
          "data": {
            "text/plain": [
              "1000"
            ]
          },
          "metadata": {
            "tags": []
          },
          "execution_count": 34
        }
      ]
    }
  ]
}